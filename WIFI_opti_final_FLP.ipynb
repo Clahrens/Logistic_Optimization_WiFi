{
  "nbformat": 4,
  "nbformat_minor": 0,
  "metadata": {
    "colab": {
      "provenance": []
    },
    "kernelspec": {
      "name": "python3",
      "display_name": "Python 3"
    },
    "language_info": {
      "name": "python"
    }
  },
  "cells": [
    {
      "cell_type": "markdown",
      "source": [
        "# Our Model - Building Complex of 4 Buildings with 5GHz"
      ],
      "metadata": {
        "id": "veN5q2gNqQ3v"
      }
    },
    {
      "cell_type": "markdown",
      "source": [
        "## Importing necessary tools"
      ],
      "metadata": {
        "id": "5sgp9DsUqdgG"
      }
    },
    {
      "cell_type": "code",
      "source": [
        "!pip install ortools\n",
        "from __future__ import print_function\n",
        "from ortools.sat.python import cp_model as cp\n",
        "import math \n",
        "\n",
        "#for visualisation\n",
        "import numpy as np\n",
        "import matplotlib.pyplot as plt\n",
        "from mpl_toolkits.mplot3d import Axes3D"
      ],
      "metadata": {
        "colab": {
          "base_uri": "https://localhost:8080/"
        },
        "id": "6-GwveNrqhcM",
        "outputId": "9af42fd7-cc64-4a43-c00c-bd827cfcea64"
      },
      "execution_count": null,
      "outputs": [
        {
          "output_type": "stream",
          "name": "stdout",
          "text": [
            "Looking in indexes: https://pypi.org/simple, https://us-python.pkg.dev/colab-wheels/public/simple/\n",
            "Requirement already satisfied: ortools in /usr/local/lib/python3.10/dist-packages (9.6.2534)\n",
            "Requirement already satisfied: absl-py>=0.13 in /usr/local/lib/python3.10/dist-packages (from ortools) (1.4.0)\n",
            "Requirement already satisfied: numpy>=1.13.3 in /usr/local/lib/python3.10/dist-packages (from ortools) (1.22.4)\n",
            "Requirement already satisfied: protobuf>=4.21.12 in /usr/local/lib/python3.10/dist-packages (from ortools) (4.23.0)\n",
            "Requirement already satisfied: scipy>=1.10.0 in /usr/local/lib/python3.10/dist-packages (from ortools) (1.10.1)\n"
          ]
        }
      ]
    },
    {
      "cell_type": "markdown",
      "source": [
        "## Definition of model parameters"
      ],
      "metadata": {
        "id": "6W3PBfDPqlA3"
      }
    },
    {
      "cell_type": "code",
      "source": [
        "model = cp.CpModel()\n",
        "min_distance = 30 #reach of wavelengths\n",
        "\n",
        "#number of rooms\n",
        "s=12 #number of sections on one length (x or y axis) -> we have three apartments, but each apartment is divided into 4 sections/rooms (2 per axis)\n",
        "f=5 #number of floors (rooms on z axis)\n",
        "num_blocks = s*s*f   # number of total rooms to be covered\n",
        "\n",
        "#dimensions or distance between points/walls\n",
        "l=4  #lenght of room (can be changed) -> aparment length is 8m\n",
        "w=4  #width of room (can be changed) -> apartment length is 8m\n",
        "h=3  #height of room (always the same (3m))\n",
        "\n",
        "#reach distance decrease because of walls\n",
        "sw = 1.8   #small wall (room walls within apartments)\n",
        "mw = 2.6   #medium walls (apartment walls between apartments)\n",
        "bw = 5     #big walls (outside building walls)\n",
        "c = 6.6    #ceiling\n",
        "hd = 10    #distance between houses"
      ],
      "metadata": {
        "id": "o1rBUlM8qqWU"
      },
      "execution_count": null,
      "outputs": []
    },
    {
      "cell_type": "markdown",
      "source": [
        "## Distance matrix calculation with constraints of all wall sizes"
      ],
      "metadata": {
        "id": "C2SbUIfJqtBm"
      }
    },
    {
      "cell_type": "code",
      "source": [
        "#calculating the distance between all rooms\n",
        "def euclidean_distance(a, b):\n",
        "  distance = math.sqrt(sum([(a[i] - b[i])**2 for i in range(len(a))]))   #general equation to calculate distance between two points in 3 dimensions\n",
        "  diffz = abs(a[0] - b[0])   #distance in z direction\n",
        "  diffx = abs(a[1] - b[1])   #distance in x direction\n",
        "  diffy = abs(a[2] - b[2])   #distance in y direction\n",
        "\n",
        "    #ceiling effect\n",
        "  if diffz > 0:\n",
        "    distance += (diffz/h)*c     #add distance for every ceiling/floor that we pass through\n",
        "    \n",
        "    #small wall effect\n",
        "  if diffx > 0:\n",
        "    distance += (diffx/l)*sw    #add distance for every small wall that we pass through\n",
        "  if diffy > 0:\n",
        "    distance += (diffy/w)*sw    #add distance for every small wall that we pass through\n",
        "    \n",
        "    #medium wall effect\n",
        "  if (diffx/l) % 2 == 0:                 #if the departments are a multiple of 2 apart from each other\n",
        "    distance += ((diffx/l)//2) * mw     #then add how many multiples of 2 the department has times the thickness of the apartment wall\n",
        "  else:\n",
        "    if (a[1]<b[1] and (a[1]/l)%2==0) or (b[1]<a[1] and (b[1]/l)%2==0):  #if departments are uneven number apart and the lower indicated apartment is a multiple of 2\n",
        "        distance += ((diffx/l)//2) * (mw-sw)                      #add multiple of 2 medium walls and subtract thin walls instead\n",
        "    else:\n",
        "        distance += ((diffx/l)//2) * (mw-sw) + (mw-sw)            #otherwise add the same plus one additional medium wall\n",
        "\n",
        "  if (diffy/w) % 2 == 0:                 #if the departments are a multiple of 2 apart from each other\n",
        "    distance += ((diffy/w)//2) * mw     #then add how many multiples of 2 the department has times the thickness of the apartment wall\n",
        "  else:\n",
        "    if (a[2]<b[2] and (a[2]/w)%2==0) or (b[2]<a[2] and (b[2]/w)%2==0):  #if departments are uneven number apart and the lower indicated apartment is a multiple of 2\n",
        "        distance += ((diffy/w)//2) * (mw-sw)                      #add multiple of 2 medium walls and subtract thin walls instead\n",
        "    else:\n",
        "        distance += ((diffy/w)//2) * (mw-sw) + (mw-sw)            #otherwise add the same plus one additional medium wall\n",
        " \n",
        "    #big wall effect\n",
        "  if (a[1]/l < 6 and b[1]/l >= 6) or (a[1]/l > 6 and b[1]/l <= 6):   #if both points are on one half of the spectrum (above or below 6)\n",
        "    distance += 2*bw + hd - sw - mw                               #add the two big outside walls and the distance between the buildings and subtract a small and medium wall\n",
        "    \n",
        "  if (a[2]/w < 6 and b[2]/w >= 6) or (a[2]/w > 6 and b[2]/w <= 6):   #if both points are on one half of the spectrum (above or below 6)\n",
        "    distance += 2*bw + hd - sw - mw                               #add the two big outside walls and the distance between the buildings and subtract a small and medium wall\n",
        "    \n",
        "  return distance"
      ],
      "metadata": {
        "id": "znqRG20BqzNL"
      },
      "execution_count": null,
      "outputs": []
    },
    {
      "cell_type": "markdown",
      "source": [
        "## Running the optimization model"
      ],
      "metadata": {
        "id": "ORneCDdhq3Mn"
      }
    },
    {
      "cell_type": "code",
      "source": [
        "#create model of room location\n",
        "points = [(i, j, k) for i in range(f) for j in range(s) for k in range(s)]     #simple point matrix with distance 1 between points\n",
        "selected_points = [(i*h, j*l, k*w) for i, j, k in points if i in list(range(f)) and j in list(range(s)) and k in list(range(s))]   #adapted point matrix according to real distances\n",
        "\n",
        "#create distance matrix between all rooms\n",
        "distance = [\n",
        "    [euclidean_distance(a, b) for b in selected_points] for a in selected_points\n",
        "]\n",
        "\n",
        "\n",
        "# define decision variables - coverage of router x=1 if covered\n",
        "x = [model.NewIntVar(0, 1, \"x[%i]\" % i) for i in range(num_blocks)] #decision, where we put routers (1 if we use router in room, 0 if not)\n",
        "z = model.NewIntVar(0, num_blocks, \"z\") #total number of routers used (want to minimize)\n",
        "\n",
        "#objective to minimize: \n",
        "model.Add(z == sum(x))\n",
        "\n",
        "#constraints\n",
        "for i in range(num_blocks):\n",
        "        model.Add(sum([x[j] for j in range(num_blocks) if distance[i][j] <= min_distance]) >= 1)\n",
        "\n",
        "\n",
        "model.Minimize(z)\n",
        "solver = cp.CpSolver()\n",
        "status = solver.Solve(model)\n",
        "if status == cp.OPTIMAL:\n",
        "  print(\"z:\", solver.Value(z))\n",
        "  print(\"x:\", [solver.Value(x[i]) for i in range(num_blocks)])\n",
        "  print(\"NumConflicts:\", solver.NumConflicts())\n",
        "  print(\"NumBranches:\", solver.NumBranches())\n",
        "print (len(x))"
      ],
      "metadata": {
        "colab": {
          "base_uri": "https://localhost:8080/"
        },
        "id": "FE1uuGKRq8xQ",
        "outputId": "30697383-7f8b-4dea-c904-7c670920d0a6"
      },
      "execution_count": null,
      "outputs": [
        {
          "output_type": "stream",
          "name": "stdout",
          "text": [
            "720\n"
          ]
        }
      ]
    },
    {
      "cell_type": "markdown",
      "source": [
        "## Visualisation of results"
      ],
      "metadata": {
        "id": "gFEhwPMBzQFw"
      }
    },
    {
      "cell_type": "code",
      "source": [
        "print (selected_points)"
      ],
      "metadata": {
        "id": "6SLCAvJzzSs5"
      },
      "execution_count": null,
      "outputs": []
    },
    {
      "cell_type": "code",
      "source": [
        "# Extract the coordinates of selected points and router placements\n",
        "coordinates = np.array([list(point) for point in selected_points])\n",
        "router_placements = np.array([solver.Value(x[i]) for i in range(num_blocks)])\n",
        "\n",
        "# Separate the router placements into individual coordinates\n",
        "router_coordinates = coordinates[router_placements == 1]\n",
        "display(router_coordinates)\n",
        "rotated_router_coordinates = np.copy(router_coordinates)\n",
        "rotated_router_coordinates[:,0] = router_coordinates[:,2]\n",
        "rotated_router_coordinates[:,1] = router_coordinates[:, 1]\n",
        "rotated_router_coordinates[:,2] = router_coordinates[:, 0]\n",
        "display(rotated_router_coordinates)\n",
        "# Rotate the coordinates and adjust the position\n",
        "rotated_coordinates = np.copy(coordinates)\n",
        "rotated_coordinates[:, 0], rotated_coordinates[:, 1], rotated_coordinates[:, 2] = coordinates[:, 2], coordinates[:, 1], coordinates[:, 0]\n",
        "\n",
        "# Plotting the 3D visualization\n",
        "fig = plt.figure()\n",
        "ax = fig.add_subplot(111, projection='3d')\n",
        "\n",
        "\n",
        "# Plot all room coordinates\n",
        "ax.scatter(rotated_coordinates[:, 0],rotated_coordinates[:, 1],rotated_coordinates[:, 2], c='blue', marker='s', label='Room')\n",
        "\n",
        "# Plot router coordinates\n",
        "ax.scatter(rotated_router_coordinates[:, 0], rotated_router_coordinates[:, 1], rotated_router_coordinates[:, 2], c='red', marker='^', s=110, alpha=0.8, edgecolors='black', label='Routers')\n",
        "\n",
        "# Set labels and legend\n",
        "ax.set_xlabel('X')\n",
        "ax.set_ylabel('Y')\n",
        "ax.set_zlabel('Z')\n",
        "ax.set_title(\"Wifi Router Placement\")\n",
        "ax.legend()\n",
        "\n",
        "plt.show()"
      ],
      "metadata": {
        "id": "YVkT-5s6zbe-"
      },
      "execution_count": null,
      "outputs": []
    },
    {
      "cell_type": "code",
      "source": [
        "# Plotting the 3D visualization\n",
        "fig = plt.figure()\n",
        "ax = fig.add_subplot(111, projection='3d')\n",
        "\n",
        "# Plot router coordinates\n",
        "ax.scatter(rotated_router_coordinates[:, 0], rotated_router_coordinates[:, 1], rotated_router_coordinates[:, 2], c='red', marker='^', s=110, alpha=0.8, edgecolors='black', label='Routers')\n",
        "\n",
        "# Set labels and legend\n",
        "ax.set_xlabel('X')\n",
        "ax.set_ylabel('Y')\n",
        "ax.set_zlabel('Z')\n",
        "ax.set_title(\"Wifi Router Placement\")\n",
        "ax.legend()\n",
        "\n",
        "plt.show()"
      ],
      "metadata": {
        "id": "GB4jrlMOzf4t"
      },
      "execution_count": null,
      "outputs": []
    }
  ]
}